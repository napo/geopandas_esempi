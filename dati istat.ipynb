{
 "cells": [
  {
   "cell_type": "markdown",
   "metadata": {},
   "source": [
    "# Basi territoriali e variabili censuarie\n",
    "https://www.istat.it/it/archivio/104317\n",
    "\n",
    "## confini amministrativi\n",
    "https://www.istat.it/it/archivio/222527\n",
    "\n",
    "![tabella_confini_istat](img/tabella_confini_istat.png)\n",
    "\n",
    "### confini\n",
    "versione non generalizzata al 2018 - proiezione WGS84 UTM32N **[EPSG:32632](https://epsg.io/32632)**\n",
    "\n",
    "http://www.istat.it/storage/cartografia/confini_amministrativi/non_generalizzati/Limiti01012018.zip"
   ]
  },
  {
   "cell_type": "code",
   "execution_count": 1,
   "metadata": {},
   "outputs": [],
   "source": [
    "import requests\n",
    "import zipfile\n",
    "import io"
   ]
  },
  {
   "cell_type": "code",
   "execution_count": 2,
   "metadata": {},
   "outputs": [],
   "source": [
    "zipconfini=\"http://www.istat.it/storage/cartografia/confini_amministrativi/non_generalizzati/Limiti01012018.zip\"\n",
    "r = requests.get(zipconfini)"
   ]
  },
  {
   "cell_type": "code",
   "execution_count": 3,
   "metadata": {},
   "outputs": [],
   "source": [
    "z = zipfile.ZipFile(io.BytesIO(r.content))\n",
    "z.extractall()"
   ]
  },
  {
   "cell_type": "markdown",
   "metadata": {},
   "source": [
    "questo genera la cartella _\"Limiti01012018\"_ che a sua volta contiene:\n",
    "\n",
    "- _Com01012018_ : confini comunali\n",
    "- _ProvCM01012018_ : confini provinciali\n",
    "- _Reg01012018_ : confini regionali\n",
    "- _RipGeo01012018_ : ripartizioni geografiche\n",
    "\n",
    "Totale 108 Mb"
   ]
  },
  {
   "cell_type": "markdown",
   "metadata": {},
   "source": [
    "# Geopandas"
   ]
  },
  {
   "cell_type": "code",
   "execution_count": 4,
   "metadata": {},
   "outputs": [],
   "source": [
    "import geopandas as gpd\n",
    "import os"
   ]
  },
  {
   "cell_type": "markdown",
   "metadata": {},
   "source": [
    "caricamento del file RipGeo01012018"
   ]
  },
  {
   "cell_type": "code",
   "execution_count": 5,
   "metadata": {},
   "outputs": [],
   "source": [
    "ripartizioni_geografiche = gpd.read_file(\"Limiti01012018\" + os.sep + \"RipGeo01012018\" + os.sep + \"RipGeo01012018.shp\")"
   ]
  },
  {
   "cell_type": "markdown",
   "metadata": {},
   "source": [
    "## leggere il contenuto"
   ]
  },
  {
   "cell_type": "code",
   "execution_count": 6,
   "metadata": {},
   "outputs": [
    {
     "data": {
      "text/html": [
       "<div>\n",
       "<style scoped>\n",
       "    .dataframe tbody tr th:only-of-type {\n",
       "        vertical-align: middle;\n",
       "    }\n",
       "\n",
       "    .dataframe tbody tr th {\n",
       "        vertical-align: top;\n",
       "    }\n",
       "\n",
       "    .dataframe thead th {\n",
       "        text-align: right;\n",
       "    }\n",
       "</style>\n",
       "<table border=\"1\" class=\"dataframe\">\n",
       "  <thead>\n",
       "    <tr style=\"text-align: right;\">\n",
       "      <th></th>\n",
       "      <th>COD_RIP</th>\n",
       "      <th>DEN_RIP</th>\n",
       "      <th>SHAPE_Leng</th>\n",
       "      <th>SHAPE_Area</th>\n",
       "      <th>geometry</th>\n",
       "    </tr>\n",
       "  </thead>\n",
       "  <tbody>\n",
       "    <tr>\n",
       "      <th>0</th>\n",
       "      <td>2</td>\n",
       "      <td>Nord-Est</td>\n",
       "      <td>2.533131e+06</td>\n",
       "      <td>6.232594e+10</td>\n",
       "      <td>(POLYGON ((852603.4834000003 5080093.183700001...</td>\n",
       "    </tr>\n",
       "    <tr>\n",
       "      <th>1</th>\n",
       "      <td>1</td>\n",
       "      <td>Nord-Ovest</td>\n",
       "      <td>2.671559e+06</td>\n",
       "      <td>5.792678e+10</td>\n",
       "      <td>(POLYGON ((459010.2297999999 4906246.5803, 458...</td>\n",
       "    </tr>\n",
       "    <tr>\n",
       "      <th>2</th>\n",
       "      <td>3</td>\n",
       "      <td>Centro</td>\n",
       "      <td>2.407106e+06</td>\n",
       "      <td>5.808371e+10</td>\n",
       "      <td>(POLYGON ((625766.3239000002 4754785.0197, 625...</td>\n",
       "    </tr>\n",
       "    <tr>\n",
       "      <th>3</th>\n",
       "      <td>5</td>\n",
       "      <td>Isole</td>\n",
       "      <td>3.860050e+06</td>\n",
       "      <td>4.993163e+10</td>\n",
       "      <td>(POLYGON ((1054330.9396 4140712.709000001, 105...</td>\n",
       "    </tr>\n",
       "    <tr>\n",
       "      <th>4</th>\n",
       "      <td>4</td>\n",
       "      <td>Sud</td>\n",
       "      <td>3.118909e+06</td>\n",
       "      <td>7.379777e+10</td>\n",
       "      <td>(POLYGON ((930273.4244999997 4714737.742000001...</td>\n",
       "    </tr>\n",
       "  </tbody>\n",
       "</table>\n",
       "</div>"
      ],
      "text/plain": [
       "   COD_RIP     DEN_RIP    SHAPE_Leng    SHAPE_Area  \\\n",
       "0        2    Nord-Est  2.533131e+06  6.232594e+10   \n",
       "1        1  Nord-Ovest  2.671559e+06  5.792678e+10   \n",
       "2        3      Centro  2.407106e+06  5.808371e+10   \n",
       "3        5       Isole  3.860050e+06  4.993163e+10   \n",
       "4        4         Sud  3.118909e+06  7.379777e+10   \n",
       "\n",
       "                                            geometry  \n",
       "0  (POLYGON ((852603.4834000003 5080093.183700001...  \n",
       "1  (POLYGON ((459010.2297999999 4906246.5803, 458...  \n",
       "2  (POLYGON ((625766.3239000002 4754785.0197, 625...  \n",
       "3  (POLYGON ((1054330.9396 4140712.709000001, 105...  \n",
       "4  (POLYGON ((930273.4244999997 4714737.742000001...  "
      ]
     },
     "execution_count": 6,
     "metadata": {},
     "output_type": "execute_result"
    }
   ],
   "source": [
    "ripartizioni_geografiche"
   ]
  },
  {
   "cell_type": "markdown",
   "metadata": {},
   "source": [
    "## visualizzare la mappa"
   ]
  },
  {
   "cell_type": "code",
   "execution_count": 7,
   "metadata": {},
   "outputs": [
    {
     "ename": "ModuleNotFoundError",
     "evalue": "No module named 'matplotlib'",
     "output_type": "error",
     "traceback": [
      "\u001b[0;31m---------------------------------------------------------------------------\u001b[0m",
      "\u001b[0;31mModuleNotFoundError\u001b[0m                       Traceback (most recent call last)",
      "\u001b[0;32m<ipython-input-7-a69e9c780045>\u001b[0m in \u001b[0;36m<module>\u001b[0;34m\u001b[0m\n\u001b[0;32m----> 1\u001b[0;31m \u001b[0mripartizioni_geografiche\u001b[0m\u001b[0;34m.\u001b[0m\u001b[0mplot\u001b[0m\u001b[0;34m(\u001b[0m\u001b[0;34m)\u001b[0m\u001b[0;34m\u001b[0m\u001b[0;34m\u001b[0m\u001b[0m\n\u001b[0m",
      "\u001b[0;32m~/dev/geopandas_esempi/env/lib/python3.6/site-packages/geopandas/geodataframe.py\u001b[0m in \u001b[0;36mplot\u001b[0;34m(self, *args, **kwargs)\u001b[0m\n\u001b[1;32m    532\u001b[0m         \u001b[0;32mfrom\u001b[0m \u001b[0mthere\u001b[0m\u001b[0;34m.\u001b[0m\u001b[0;34m\u001b[0m\u001b[0;34m\u001b[0m\u001b[0m\n\u001b[1;32m    533\u001b[0m         \"\"\"\n\u001b[0;32m--> 534\u001b[0;31m         \u001b[0;32mreturn\u001b[0m \u001b[0mplot_dataframe\u001b[0m\u001b[0;34m(\u001b[0m\u001b[0mself\u001b[0m\u001b[0;34m,\u001b[0m \u001b[0;34m*\u001b[0m\u001b[0margs\u001b[0m\u001b[0;34m,\u001b[0m \u001b[0;34m**\u001b[0m\u001b[0mkwargs\u001b[0m\u001b[0;34m)\u001b[0m\u001b[0;34m\u001b[0m\u001b[0;34m\u001b[0m\u001b[0m\n\u001b[0m\u001b[1;32m    535\u001b[0m \u001b[0;34m\u001b[0m\u001b[0m\n\u001b[1;32m    536\u001b[0m     \u001b[0mplot\u001b[0m\u001b[0;34m.\u001b[0m\u001b[0m__doc__\u001b[0m \u001b[0;34m=\u001b[0m \u001b[0mplot_dataframe\u001b[0m\u001b[0;34m.\u001b[0m\u001b[0m__doc__\u001b[0m\u001b[0;34m\u001b[0m\u001b[0;34m\u001b[0m\u001b[0m\n",
      "\u001b[0;32m~/dev/geopandas_esempi/env/lib/python3.6/site-packages/geopandas/plotting.py\u001b[0m in \u001b[0;36mplot_dataframe\u001b[0;34m(df, column, cmap, color, ax, categorical, legend, scheme, k, vmin, vmax, markersize, figsize, legend_kwds, **style_kwds)\u001b[0m\n\u001b[1;32m    394\u001b[0m         \u001b[0mcolumn\u001b[0m \u001b[0;34m=\u001b[0m \u001b[0;32mNone\u001b[0m\u001b[0;34m\u001b[0m\u001b[0;34m\u001b[0m\u001b[0m\n\u001b[1;32m    395\u001b[0m \u001b[0;34m\u001b[0m\u001b[0m\n\u001b[0;32m--> 396\u001b[0;31m     \u001b[0;32mimport\u001b[0m \u001b[0mmatplotlib\u001b[0m\u001b[0;34m\u001b[0m\u001b[0;34m\u001b[0m\u001b[0m\n\u001b[0m\u001b[1;32m    397\u001b[0m     \u001b[0;32mimport\u001b[0m \u001b[0mmatplotlib\u001b[0m\u001b[0;34m.\u001b[0m\u001b[0mpyplot\u001b[0m \u001b[0;32mas\u001b[0m \u001b[0mplt\u001b[0m\u001b[0;34m\u001b[0m\u001b[0;34m\u001b[0m\u001b[0m\n\u001b[1;32m    398\u001b[0m \u001b[0;34m\u001b[0m\u001b[0m\n",
      "\u001b[0;31mModuleNotFoundError\u001b[0m: No module named 'matplotlib'"
     ]
    }
   ],
   "source": [
    "ripartizioni_geografiche.plot()"
   ]
  },
  {
   "cell_type": "markdown",
   "metadata": {},
   "source": [
    "## assegnare un colore ad ogni area"
   ]
  },
  {
   "cell_type": "code",
   "execution_count": null,
   "metadata": {},
   "outputs": [],
   "source": [
    "ripartizioni_geografiche.plot(column='DEN_RIP')"
   ]
  },
  {
   "cell_type": "markdown",
   "metadata": {},
   "source": [
    "## aggiungere la legenda"
   ]
  },
  {
   "cell_type": "code",
   "execution_count": null,
   "metadata": {},
   "outputs": [],
   "source": [
    "ripartizioni_geografiche.plot(column='DEN_RIP',legend=True)"
   ]
  },
  {
   "cell_type": "markdown",
   "metadata": {},
   "source": [
    "## allargare la mappa scegliendo le dimensioni di x e y in pollici"
   ]
  },
  {
   "cell_type": "code",
   "execution_count": null,
   "metadata": {},
   "outputs": [],
   "source": [
    "ripartizioni_geografiche.plot(column='DEN_RIP',legend=True,figsize=(20,20))"
   ]
  },
  {
   "cell_type": "markdown",
   "metadata": {},
   "source": [
    "## cambiare la scala colori\n",
    "\n",
    "per fare questo è opportuno scegliere la scala colori fra [quelle offerte da maptplotlib](https://matplotlib.org/users/colormaps.html) \n",
    "\n",
    "In questo caso conviene [scegliere](https://matplotlib.org/users/colormaps.html#list-colormaps) fra quelle di scala divergente \n",
    "![divergente](https://matplotlib.org/_images/grayscale_01_03.png)\n"
   ]
  },
  {
   "cell_type": "code",
   "execution_count": null,
   "metadata": {},
   "outputs": [],
   "source": [
    "ripartizioni_geografiche.plot(column='DEN_RIP',legend=True,figsize=(20,20),cmap=\"RdYlBu\")"
   ]
  },
  {
   "cell_type": "markdown",
   "metadata": {},
   "source": [
    "## creare un nuovo vettore di punti con delle coordinate significative con i nomi delle ripartizioni"
   ]
  },
  {
   "cell_type": "markdown",
   "metadata": {},
   "source": [
    "posso scegliere il centroide"
   ]
  },
  {
   "cell_type": "code",
   "execution_count": null,
   "metadata": {},
   "outputs": [],
   "source": [
    "ripartizioni_geografiche.centroid"
   ]
  },
  {
   "cell_type": "code",
   "execution_count": null,
   "metadata": {},
   "outputs": [],
   "source": [
    "ripartizioni_geografiche.centroid.plot()"
   ]
  },
  {
   "cell_type": "markdown",
   "metadata": {},
   "source": [
    "o un punto rappresentativo "
   ]
  },
  {
   "cell_type": "code",
   "execution_count": null,
   "metadata": {},
   "outputs": [],
   "source": [
    "ripartizioni_geografiche.representative_point()"
   ]
  },
  {
   "cell_type": "code",
   "execution_count": null,
   "metadata": {},
   "outputs": [],
   "source": [
    "ripartizioni_geografiche.representative_point().plot()"
   ]
  },
  {
   "cell_type": "markdown",
   "metadata": {},
   "source": [
    "per aggiungere ai punti le etichette ho bisogno di trasformare la serie in un geodataframe usando l'indice come chiave di collegamento"
   ]
  },
  {
   "cell_type": "code",
   "execution_count": null,
   "metadata": {},
   "outputs": [],
   "source": [
    "punti_rappresentativi = gpd.GeoDataFrame(ripartizioni_geografiche.representative_point()).reset_index()"
   ]
  },
  {
   "cell_type": "code",
   "execution_count": null,
   "metadata": {},
   "outputs": [],
   "source": [
    "punti_rappresentativi.columns"
   ]
  },
  {
   "cell_type": "markdown",
   "metadata": {},
   "source": [
    "il geodataframe creato non ha un colonna di tipo 'geometry', infatti, se si prova a disegnarlo, da errore"
   ]
  },
  {
   "cell_type": "code",
   "execution_count": null,
   "metadata": {},
   "outputs": [],
   "source": [
    "try:\n",
    "    punti_rappresentativi.plot()\n",
    "except Exception as e:\n",
    "    print(e)"
   ]
  },
  {
   "cell_type": "markdown",
   "metadata": {},
   "source": [
    "è quindi necessario assegnare la colonna 'geometry'"
   ]
  },
  {
   "cell_type": "code",
   "execution_count": 19,
   "metadata": {},
   "outputs": [],
   "source": [
    "punti_rappresentativi = punti_rappresentativi.rename(columns={0:'geometry'}).set_geometry('geometry')"
   ]
  },
  {
   "cell_type": "code",
   "execution_count": 20,
   "metadata": {},
   "outputs": [
    {
     "data": {
      "text/plain": [
       "<matplotlib.axes._subplots.AxesSubplot at 0x7f53e85f55c0>"
      ]
     },
     "execution_count": 20,
     "metadata": {},
     "output_type": "execute_result"
    },
    {
     "data": {
      "image/png": "[encoded data removed]",
      "text/plain": [
       "<Figure size 432x288 with 1 Axes>"
      ]
     },
     "metadata": {},
     "output_type": "display_data"
    }
   ],
   "source": [
    "punti_rappresentativi.plot()"
   ]
  },
  {
   "cell_type": "code",
   "execution_count": 21,
   "metadata": {},
   "outputs": [
    {
     "data": {
      "text/html": [
       "<div>\n",
       "<style scoped>\n",
       "    .dataframe tbody tr th:only-of-type {\n",
       "        vertical-align: middle;\n",
       "    }\n",
       "\n",
       "    .dataframe tbody tr th {\n",
       "        vertical-align: top;\n",
       "    }\n",
       "\n",
       "    .dataframe thead th {\n",
       "        text-align: right;\n",
       "    }\n",
       "</style>\n",
       "<table border=\"1\" class=\"dataframe\">\n",
       "  <thead>\n",
       "    <tr style=\"text-align: right;\">\n",
       "      <th></th>\n",
       "      <th>index</th>\n",
       "      <th>geometry</th>\n",
       "    </tr>\n",
       "  </thead>\n",
       "  <tbody>\n",
       "    <tr>\n",
       "      <th>0</th>\n",
       "      <td>0</td>\n",
       "      <td>POINT (696177.6980534061 5033674.6388)</td>\n",
       "    </tr>\n",
       "    <tr>\n",
       "      <th>1</th>\n",
       "      <td>1</td>\n",
       "      <td>POINT (498289.3859768431 5006600.53385)</td>\n",
       "    </tr>\n",
       "    <tr>\n",
       "      <th>2</th>\n",
       "      <td>2</td>\n",
       "      <td>POINT (757542.6437202122 4748065.48845)</td>\n",
       "    </tr>\n",
       "    <tr>\n",
       "      <th>3</th>\n",
       "      <td>3</td>\n",
       "      <td>POINT (942181.712401716 4166109.38245)</td>\n",
       "    </tr>\n",
       "    <tr>\n",
       "      <th>4</th>\n",
       "      <td>4</td>\n",
       "      <td>POINT (1085274.088699356 4489491.1233)</td>\n",
       "    </tr>\n",
       "  </tbody>\n",
       "</table>\n",
       "</div>"
      ],
      "text/plain": [
       "   index                                 geometry\n",
       "0      0   POINT (696177.6980534061 5033674.6388)\n",
       "1      1  POINT (498289.3859768431 5006600.53385)\n",
       "2      2  POINT (757542.6437202122 4748065.48845)\n",
       "3      3   POINT (942181.712401716 4166109.38245)\n",
       "4      4   POINT (1085274.088699356 4489491.1233)"
      ]
     },
     "execution_count": 21,
     "metadata": {},
     "output_type": "execute_result"
    }
   ],
   "source": [
    "punti_rappresentativi"
   ]
  },
  {
   "cell_type": "markdown",
   "metadata": {},
   "source": [
    "aggiungiamo le etichette usando \"index\" come chiave comiciando a creare un DataFrame"
   ]
  },
  {
   "cell_type": "code",
   "execution_count": 22,
   "metadata": {},
   "outputs": [],
   "source": [
    "etichette = ripartizioni_geografiche.DEN_RIP.to_frame().reset_index()"
   ]
  },
  {
   "cell_type": "markdown",
   "metadata": {},
   "source": [
    "ora è possibile unire i due dataframe"
   ]
  },
  {
   "cell_type": "code",
   "execution_count": 23,
   "metadata": {},
   "outputs": [],
   "source": [
    "punti_rappresentativi = punti_rappresentativi.merge(etichette,on=\"index\")"
   ]
  },
  {
   "cell_type": "markdown",
   "metadata": {},
   "source": [
    "rinomino \"DEN_RIP\" in \"etichette\""
   ]
  },
  {
   "cell_type": "code",
   "execution_count": 24,
   "metadata": {},
   "outputs": [],
   "source": [
    "punti_rappresentativi = punti_rappresentativi.rename(columns={'DEN_RIP':'etichette'})"
   ]
  },
  {
   "cell_type": "code",
   "execution_count": 25,
   "metadata": {},
   "outputs": [
    {
     "data": {
      "text/html": [
       "<div>\n",
       "<style scoped>\n",
       "    .dataframe tbody tr th:only-of-type {\n",
       "        vertical-align: middle;\n",
       "    }\n",
       "\n",
       "    .dataframe tbody tr th {\n",
       "        vertical-align: top;\n",
       "    }\n",
       "\n",
       "    .dataframe thead th {\n",
       "        text-align: right;\n",
       "    }\n",
       "</style>\n",
       "<table border=\"1\" class=\"dataframe\">\n",
       "  <thead>\n",
       "    <tr style=\"text-align: right;\">\n",
       "      <th></th>\n",
       "      <th>index</th>\n",
       "      <th>geometry</th>\n",
       "      <th>etichette</th>\n",
       "    </tr>\n",
       "  </thead>\n",
       "  <tbody>\n",
       "    <tr>\n",
       "      <th>0</th>\n",
       "      <td>0</td>\n",
       "      <td>POINT (696177.6980534061 5033674.6388)</td>\n",
       "      <td>Nord-Est</td>\n",
       "    </tr>\n",
       "    <tr>\n",
       "      <th>1</th>\n",
       "      <td>1</td>\n",
       "      <td>POINT (498289.3859768431 5006600.53385)</td>\n",
       "      <td>Nord-Ovest</td>\n",
       "    </tr>\n",
       "    <tr>\n",
       "      <th>2</th>\n",
       "      <td>2</td>\n",
       "      <td>POINT (757542.6437202122 4748065.48845)</td>\n",
       "      <td>Centro</td>\n",
       "    </tr>\n",
       "    <tr>\n",
       "      <th>3</th>\n",
       "      <td>3</td>\n",
       "      <td>POINT (942181.712401716 4166109.38245)</td>\n",
       "      <td>Isole</td>\n",
       "    </tr>\n",
       "    <tr>\n",
       "      <th>4</th>\n",
       "      <td>4</td>\n",
       "      <td>POINT (1085274.088699356 4489491.1233)</td>\n",
       "      <td>Sud</td>\n",
       "    </tr>\n",
       "  </tbody>\n",
       "</table>\n",
       "</div>"
      ],
      "text/plain": [
       "   index                                 geometry   etichette\n",
       "0      0   POINT (696177.6980534061 5033674.6388)    Nord-Est\n",
       "1      1  POINT (498289.3859768431 5006600.53385)  Nord-Ovest\n",
       "2      2  POINT (757542.6437202122 4748065.48845)      Centro\n",
       "3      3   POINT (942181.712401716 4166109.38245)       Isole\n",
       "4      4   POINT (1085274.088699356 4489491.1233)         Sud"
      ]
     },
     "execution_count": 25,
     "metadata": {},
     "output_type": "execute_result"
    }
   ],
   "source": [
    "punti_rappresentativi"
   ]
  },
  {
   "cell_type": "code",
   "execution_count": 27,
   "metadata": {},
   "outputs": [],
   "source": [
    "import matplotlib.pyplot as plt\n",
    "#import adjustText as aT"
   ]
  },
  {
   "cell_type": "code",
   "execution_count": 28,
   "metadata": {},
   "outputs": [
    {
     "data": {
      "image/png": "[encoded data removed]",
      "text/plain": [
       "<Figure size 1080x864 with 1 Axes>"
      ]
     },
     "metadata": {},
     "output_type": "display_data"
    }
   ],
   "source": [
    "f, ax = plt.subplots(1,figsize = (15, 12))\n",
    "ripartizioni_geografiche.plot(ax=ax,figsize=(200,200))\n",
    "punti_rappresentativi.plot(ax=ax,color='yellow')\n",
    "plt.show()"
   ]
  },
  {
   "cell_type": "code",
   "execution_count": 31,
   "metadata": {},
   "outputs": [
    {
     "data": {
      "image/png": "[encoded data removed]",
      "text/plain": [
       "<Figure size 1080x864 with 1 Axes>"
      ]
     },
     "metadata": {},
     "output_type": "display_data"
    }
   ],
   "source": [
    "ax = ripartizioni_geografiche.plot(figsize = (15, 12), color = \"whitesmoke\", edgecolor = \"lightgrey\", linewidth = 0.5)\n",
    "texts = []\n",
    "\n",
    "for x, y, label in zip(punti_rappresentativi.geometry.x, punti_rappresentativi.geometry.y, punti_rappresentativi[\"etichette\"]):\n",
    "    texts.append(plt.text(x, y, label, fontsize = 8))"
   ]
  },
  {
   "cell_type": "markdown",
   "metadata": {},
   "source": [
    "## usare il geocoder\n",
    "\n",
    "geopandas si appoggia a [geopy](https://geopy.readthedocs.io/en/stable/)"
   ]
  },
  {
   "cell_type": "code",
   "execution_count": 32,
   "metadata": {},
   "outputs": [],
   "source": [
    "colonne = ['nome_citta']\n",
    "citta = [('Roma'),('Palermo'),('Trento'),('Genova'),('Bari'),('Trieste'),('Napoli'),('Cagliari'),('Messina'),('Lecce')]\n",
    "elenco_citta = gpd.GeoDataFrame(citta,columns=colonne)"
   ]
  },
  {
   "cell_type": "code",
   "execution_count": 33,
   "metadata": {},
   "outputs": [
    {
     "data": {
      "text/html": [
       "<div>\n",
       "<style scoped>\n",
       "    .dataframe tbody tr th:only-of-type {\n",
       "        vertical-align: middle;\n",
       "    }\n",
       "\n",
       "    .dataframe tbody tr th {\n",
       "        vertical-align: top;\n",
       "    }\n",
       "\n",
       "    .dataframe thead th {\n",
       "        text-align: right;\n",
       "    }\n",
       "</style>\n",
       "<table border=\"1\" class=\"dataframe\">\n",
       "  <thead>\n",
       "    <tr style=\"text-align: right;\">\n",
       "      <th></th>\n",
       "      <th>nome_citta</th>\n",
       "    </tr>\n",
       "  </thead>\n",
       "  <tbody>\n",
       "    <tr>\n",
       "      <th>0</th>\n",
       "      <td>Roma</td>\n",
       "    </tr>\n",
       "    <tr>\n",
       "      <th>1</th>\n",
       "      <td>Palermo</td>\n",
       "    </tr>\n",
       "    <tr>\n",
       "      <th>2</th>\n",
       "      <td>Trento</td>\n",
       "    </tr>\n",
       "    <tr>\n",
       "      <th>3</th>\n",
       "      <td>Genova</td>\n",
       "    </tr>\n",
       "    <tr>\n",
       "      <th>4</th>\n",
       "      <td>Bari</td>\n",
       "    </tr>\n",
       "    <tr>\n",
       "      <th>5</th>\n",
       "      <td>Trieste</td>\n",
       "    </tr>\n",
       "    <tr>\n",
       "      <th>6</th>\n",
       "      <td>Napoli</td>\n",
       "    </tr>\n",
       "    <tr>\n",
       "      <th>7</th>\n",
       "      <td>Cagliari</td>\n",
       "    </tr>\n",
       "    <tr>\n",
       "      <th>8</th>\n",
       "      <td>Messina</td>\n",
       "    </tr>\n",
       "    <tr>\n",
       "      <th>9</th>\n",
       "      <td>Lecce</td>\n",
       "    </tr>\n",
       "  </tbody>\n",
       "</table>\n",
       "</div>"
      ],
      "text/plain": [
       "  nome_citta\n",
       "0       Roma\n",
       "1    Palermo\n",
       "2     Trento\n",
       "3     Genova\n",
       "4       Bari\n",
       "5    Trieste\n",
       "6     Napoli\n",
       "7   Cagliari\n",
       "8    Messina\n",
       "9      Lecce"
      ]
     },
     "execution_count": 33,
     "metadata": {},
     "output_type": "execute_result"
    }
   ],
   "source": [
    "elenco_citta"
   ]
  },
  {
   "cell_type": "code",
   "execution_count": 34,
   "metadata": {},
   "outputs": [],
   "source": [
    "geoelenco_citta = gpd.tools.geocode(elenco_citta.nome_citta, provider=\"arcgis\")\n"
   ]
  },
  {
   "cell_type": "code",
   "execution_count": 35,
   "metadata": {},
   "outputs": [
    {
     "data": {
      "text/html": [
       "<div>\n",
       "<style scoped>\n",
       "    .dataframe tbody tr th:only-of-type {\n",
       "        vertical-align: middle;\n",
       "    }\n",
       "\n",
       "    .dataframe tbody tr th {\n",
       "        vertical-align: top;\n",
       "    }\n",
       "\n",
       "    .dataframe thead th {\n",
       "        text-align: right;\n",
       "    }\n",
       "</style>\n",
       "<table border=\"1\" class=\"dataframe\">\n",
       "  <thead>\n",
       "    <tr style=\"text-align: right;\">\n",
       "      <th></th>\n",
       "      <th>geometry</th>\n",
       "      <th>address</th>\n",
       "    </tr>\n",
       "  </thead>\n",
       "  <tbody>\n",
       "    <tr>\n",
       "      <th>0</th>\n",
       "      <td>POINT (12.49565000000007 41.90322000000003)</td>\n",
       "      <td>Roma</td>\n",
       "    </tr>\n",
       "    <tr>\n",
       "      <th>1</th>\n",
       "      <td>POINT (13.36112000000003 38.12207000000006)</td>\n",
       "      <td>Palermo</td>\n",
       "    </tr>\n",
       "    <tr>\n",
       "      <th>2</th>\n",
       "      <td>POINT (11.11926000000005 46.07005000000004)</td>\n",
       "      <td>Trento</td>\n",
       "    </tr>\n",
       "    <tr>\n",
       "      <th>3</th>\n",
       "      <td>POINT (8.938980000000072 44.41039000000006)</td>\n",
       "      <td>Genova</td>\n",
       "    </tr>\n",
       "    <tr>\n",
       "      <th>4</th>\n",
       "      <td>POINT (16.86666000000002 41.12587000000008)</td>\n",
       "      <td>Bari</td>\n",
       "    </tr>\n",
       "    <tr>\n",
       "      <th>5</th>\n",
       "      <td>POINT (13.77269000000007 45.65757000000008)</td>\n",
       "      <td>Trieste</td>\n",
       "    </tr>\n",
       "    <tr>\n",
       "      <th>6</th>\n",
       "      <td>POINT (14.25226000000004 40.84014000000008)</td>\n",
       "      <td>Napoli</td>\n",
       "    </tr>\n",
       "    <tr>\n",
       "      <th>7</th>\n",
       "      <td>POINT (9.110490000000027 39.21454000000006)</td>\n",
       "      <td>Cagliari</td>\n",
       "    </tr>\n",
       "    <tr>\n",
       "      <th>8</th>\n",
       "      <td>POINT (15.55308000000002 38.17837000000003)</td>\n",
       "      <td>Messina</td>\n",
       "    </tr>\n",
       "    <tr>\n",
       "      <th>9</th>\n",
       "      <td>POINT (18.16801000000004 40.35795000000007)</td>\n",
       "      <td>Lecce</td>\n",
       "    </tr>\n",
       "  </tbody>\n",
       "</table>\n",
       "</div>"
      ],
      "text/plain": [
       "                                      geometry   address\n",
       "0  POINT (12.49565000000007 41.90322000000003)      Roma\n",
       "1  POINT (13.36112000000003 38.12207000000006)   Palermo\n",
       "2  POINT (11.11926000000005 46.07005000000004)    Trento\n",
       "3  POINT (8.938980000000072 44.41039000000006)    Genova\n",
       "4  POINT (16.86666000000002 41.12587000000008)      Bari\n",
       "5  POINT (13.77269000000007 45.65757000000008)   Trieste\n",
       "6  POINT (14.25226000000004 40.84014000000008)    Napoli\n",
       "7  POINT (9.110490000000027 39.21454000000006)  Cagliari\n",
       "8  POINT (15.55308000000002 38.17837000000003)   Messina\n",
       "9  POINT (18.16801000000004 40.35795000000007)     Lecce"
      ]
     },
     "execution_count": 35,
     "metadata": {},
     "output_type": "execute_result"
    }
   ],
   "source": [
    "geoelenco_citta"
   ]
  },
  {
   "cell_type": "code",
   "execution_count": 36,
   "metadata": {},
   "outputs": [
    {
     "data": {
      "text/plain": [
       "<matplotlib.axes._subplots.AxesSubplot at 0x7f53e8143f60>"
      ]
     },
     "execution_count": 36,
     "metadata": {},
     "output_type": "execute_result"
    },
    {
     "data": {
      "image/png": "[encoded data removed]",
      "text/plain": [
       "<Figure size 432x288 with 1 Axes>"
      ]
     },
     "metadata": {},
     "output_type": "display_data"
    }
   ],
   "source": [
    "geoelenco_citta.plot()"
   ]
  },
  {
   "cell_type": "markdown",
   "metadata": {},
   "source": [
    "## convertire le coordinate"
   ]
  },
  {
   "cell_type": "code",
   "execution_count": 37,
   "metadata": {},
   "outputs": [],
   "source": [
    "geoelenco_citta.crs = {'init':'epsg:4326'}"
   ]
  },
  {
   "cell_type": "code",
   "execution_count": 38,
   "metadata": {},
   "outputs": [
    {
     "data": {
      "text/plain": [
       "0    POINT (12.49565000000007 41.90322000000003)\n",
       "1    POINT (13.36112000000003 38.12207000000006)\n",
       "2    POINT (11.11926000000005 46.07005000000004)\n",
       "3    POINT (8.938980000000072 44.41039000000006)\n",
       "4    POINT (16.86666000000002 41.12587000000008)\n",
       "5    POINT (13.77269000000007 45.65757000000008)\n",
       "6    POINT (14.25226000000004 40.84014000000008)\n",
       "7    POINT (9.110490000000027 39.21454000000006)\n",
       "8    POINT (15.55308000000002 38.17837000000003)\n",
       "9    POINT (18.16801000000004 40.35795000000007)\n",
       "Name: geometry, dtype: object"
      ]
     },
     "execution_count": 38,
     "metadata": {},
     "output_type": "execute_result"
    }
   ],
   "source": [
    "geoelenco_citta.geometry"
   ]
  },
  {
   "cell_type": "code",
   "execution_count": 39,
   "metadata": {},
   "outputs": [
    {
     "data": {
      "text/plain": [
       "0    (POLYGON ((852603.4834000003 5080093.183700001...\n",
       "1    (POLYGON ((459010.2297999999 4906246.5803, 458...\n",
       "2    (POLYGON ((625766.3239000002 4754785.0197, 625...\n",
       "3    (POLYGON ((1054330.9396 4140712.709000001, 105...\n",
       "4    (POLYGON ((930273.4244999997 4714737.742000001...\n",
       "Name: geometry, dtype: object"
      ]
     },
     "execution_count": 39,
     "metadata": {},
     "output_type": "execute_result"
    }
   ],
   "source": [
    "ripartizioni_geografiche.geometry"
   ]
  },
  {
   "cell_type": "code",
   "execution_count": 40,
   "metadata": {},
   "outputs": [],
   "source": [
    "ripartizioni_geografiche.crs = {'init':'epsg:32632'}"
   ]
  },
  {
   "cell_type": "code",
   "execution_count": 41,
   "metadata": {},
   "outputs": [
    {
     "data": {
      "text/plain": [
       "0    (POLYGON ((852603.4834000003 5080093.183700001...\n",
       "1    (POLYGON ((459010.2297999999 4906246.5803, 458...\n",
       "2    (POLYGON ((625766.3239000002 4754785.0197, 625...\n",
       "3    (POLYGON ((1054330.9396 4140712.709000001, 105...\n",
       "4    (POLYGON ((930273.4244999997 4714737.742000001...\n",
       "Name: geometry, dtype: object"
      ]
     },
     "execution_count": 41,
     "metadata": {},
     "output_type": "execute_result"
    }
   ],
   "source": [
    "ripartizioni_geografiche.geometry"
   ]
  },
  {
   "cell_type": "code",
   "execution_count": 42,
   "metadata": {},
   "outputs": [],
   "source": [
    "geoelenco_citta = geoelenco_citta.to_crs(epsg=32632)"
   ]
  },
  {
   "cell_type": "code",
   "execution_count": 43,
   "metadata": {},
   "outputs": [
    {
     "data": {
      "text/html": [
       "<div>\n",
       "<style scoped>\n",
       "    .dataframe tbody tr th:only-of-type {\n",
       "        vertical-align: middle;\n",
       "    }\n",
       "\n",
       "    .dataframe tbody tr th {\n",
       "        vertical-align: top;\n",
       "    }\n",
       "\n",
       "    .dataframe thead th {\n",
       "        text-align: right;\n",
       "    }\n",
       "</style>\n",
       "<table border=\"1\" class=\"dataframe\">\n",
       "  <thead>\n",
       "    <tr style=\"text-align: right;\">\n",
       "      <th></th>\n",
       "      <th>geometry</th>\n",
       "      <th>address</th>\n",
       "    </tr>\n",
       "  </thead>\n",
       "  <tbody>\n",
       "    <tr>\n",
       "      <th>0</th>\n",
       "      <td>POINT (789959.3580577425 4644942.382691314)</td>\n",
       "      <td>Roma</td>\n",
       "    </tr>\n",
       "    <tr>\n",
       "      <th>1</th>\n",
       "      <td>POINT (882347.6057081512 4228352.002178628)</td>\n",
       "      <td>Palermo</td>\n",
       "    </tr>\n",
       "    <tr>\n",
       "      <th>2</th>\n",
       "      <td>POINT (663890.6535953074 5104013.957498243)</td>\n",
       "      <td>Trento</td>\n",
       "    </tr>\n",
       "    <tr>\n",
       "      <th>3</th>\n",
       "      <td>POINT (495141.6231543393 4917457.408282457)</td>\n",
       "      <td>Genova</td>\n",
       "    </tr>\n",
       "    <tr>\n",
       "      <th>4</th>\n",
       "      <td>POINT (1160616.911134471 4582659.173878244)</td>\n",
       "      <td>Bari</td>\n",
       "    </tr>\n",
       "    <tr>\n",
       "      <th>5</th>\n",
       "      <td>POINT (871823.8818152584 5067090.488763754)</td>\n",
       "      <td>Trieste</td>\n",
       "    </tr>\n",
       "    <tr>\n",
       "      <th>6</th>\n",
       "      <td>POINT (942879.0457661359 4534306.116466856)</td>\n",
       "      <td>Napoli</td>\n",
       "    </tr>\n",
       "    <tr>\n",
       "      <th>7</th>\n",
       "      <td>POINT (509538.5639221078 4340590.57150848)</td>\n",
       "      <td>Cagliari</td>\n",
       "    </tr>\n",
       "    <tr>\n",
       "      <th>8</th>\n",
       "      <td>POINT (1074243.110497063 4245953.958764161)</td>\n",
       "      <td>Messina</td>\n",
       "    </tr>\n",
       "    <tr>\n",
       "      <th>9</th>\n",
       "      <td>POINT (1279009.503048473 4508035.316408172)</td>\n",
       "      <td>Lecce</td>\n",
       "    </tr>\n",
       "  </tbody>\n",
       "</table>\n",
       "</div>"
      ],
      "text/plain": [
       "                                      geometry   address\n",
       "0  POINT (789959.3580577425 4644942.382691314)      Roma\n",
       "1  POINT (882347.6057081512 4228352.002178628)   Palermo\n",
       "2  POINT (663890.6535953074 5104013.957498243)    Trento\n",
       "3  POINT (495141.6231543393 4917457.408282457)    Genova\n",
       "4  POINT (1160616.911134471 4582659.173878244)      Bari\n",
       "5  POINT (871823.8818152584 5067090.488763754)   Trieste\n",
       "6  POINT (942879.0457661359 4534306.116466856)    Napoli\n",
       "7   POINT (509538.5639221078 4340590.57150848)  Cagliari\n",
       "8  POINT (1074243.110497063 4245953.958764161)   Messina\n",
       "9  POINT (1279009.503048473 4508035.316408172)     Lecce"
      ]
     },
     "execution_count": 43,
     "metadata": {},
     "output_type": "execute_result"
    }
   ],
   "source": [
    "geoelenco_citta"
   ]
  },
  {
   "cell_type": "code",
   "execution_count": 44,
   "metadata": {},
   "outputs": [
    {
     "data": {
      "text/plain": [
       "<matplotlib.axes._subplots.AxesSubplot at 0x7f53e2f9b048>"
      ]
     },
     "execution_count": 44,
     "metadata": {},
     "output_type": "execute_result"
    },
    {
     "data": {
      "image/png": "[encoded data removed]",
      "text/plain": [
       "<Figure size 432x288 with 1 Axes>"
      ]
     },
     "metadata": {},
     "output_type": "display_data"
    }
   ],
   "source": [
    "geoelenco_citta.plot()"
   ]
  },
  {
   "cell_type": "markdown",
   "metadata": {},
   "source": [
    "## controllare se un punto appartiene ad una area"
   ]
  },
  {
   "cell_type": "code",
   "execution_count": 45,
   "metadata": {},
   "outputs": [
    {
     "data": {
      "image/png": "[encoded data removed]",
      "text/plain": [
       "<Figure size 432x288 with 1 Axes>"
      ]
     },
     "metadata": {},
     "output_type": "display_data"
    }
   ],
   "source": [
    "fig, ax = plt.subplots()\n",
    "ripartizioni_geografiche.to_crs({\"init\": \"epsg:4326\"}).plot(ax=ax, color=\"white\", edgecolor=\"black\");"
   ]
  },
  {
   "cell_type": "code",
   "execution_count": 46,
   "metadata": {},
   "outputs": [
    {
     "data": {
      "image/png": "[encoded data removed]",
      "text/plain": [
       "<Figure size 432x288 with 1 Axes>"
      ]
     },
     "metadata": {},
     "output_type": "display_data"
    }
   ],
   "source": [
    "fig, ax = plt.subplots()\n",
    "ripartizioni_geografiche.plot(ax=ax, color=\"white\", edgecolor=\"black\");"
   ]
  },
  {
   "cell_type": "code",
   "execution_count": 47,
   "metadata": {},
   "outputs": [
    {
     "data": {
      "text/plain": [
       "<matplotlib.axes._subplots.AxesSubplot at 0x7f53e82701d0>"
      ]
     },
     "execution_count": 47,
     "metadata": {},
     "output_type": "execute_result"
    },
    {
     "data": {
      "text/plain": [
       "<Figure size 432x288 with 0 Axes>"
      ]
     },
     "metadata": {},
     "output_type": "display_data"
    }
   ],
   "source": [
    "geoelenco_citta.plot(ax=ax,color=\"red\")"
   ]
  },
  {
   "cell_type": "code",
   "execution_count": 63,
   "metadata": {},
   "outputs": [
    {
     "name": "stdout",
     "output_type": "stream",
     "text": [
      "Trento\n",
      "Nord-Est\n",
      "Trieste\n",
      "Nord-Est\n",
      "Genova\n",
      "Nord-Ovest\n",
      "Roma\n",
      "Centro\n",
      "Palermo\n",
      "Isole\n",
      "Cagliari\n",
      "Isole\n",
      "Messina\n",
      "Isole\n",
      "Bari\n",
      "Sud\n",
      "Napoli\n",
      "Sud\n",
      "Lecce\n",
      "Sud\n"
     ]
    }
   ],
   "source": [
    "for indiceripartizione in ripartizioni_geografiche.index:\n",
    "    ripartizione = ripartizioni_geografiche.loc[indiceripartizione]\n",
    "    for indicecitta in geoelenco_citta.index:\n",
    "        citta = geoelenco_citta.loc[indicecitta]\n",
    "        if citta.geometry.intersects(ripartizione.geometry) == True:\n",
    "            print(citta.address)\n",
    "            print(ripartizione.DEN_RIP)"
   ]
  },
  {
   "cell_type": "code",
   "execution_count": 59,
   "metadata": {},
   "outputs": [
    {
     "data": {
      "text/plain": [
       "Index(['COD_RIP', 'DEN_RIP', 'SHAPE_Leng', 'SHAPE_Area', 'geometry'], dtype='object')"
      ]
     },
     "execution_count": 59,
     "metadata": {},
     "output_type": "execute_result"
    }
   ],
   "source": [
    "ripartizioni_geografiche.columns"
   ]
  },
  {
   "cell_type": "code",
   "execution_count": null,
   "metadata": {},
   "outputs": [],
   "source": []
  }
 ],
 "metadata": {
  "kernelspec": {
   "display_name": "Python 3",
   "language": "python",
   "name": "python3"
  },
  "language_info": {
   "codemirror_mode": {
    "name": "ipython",
    "version": 3
   },
   "file_extension": ".py",
   "mimetype": "text/x-python",
   "name": "python",
   "nbconvert_exporter": "python",
   "pygments_lexer": "ipython3",
   "version": "3.6.7"
  }
 },
 "nbformat": 4,
 "nbformat_minor": 2
}
